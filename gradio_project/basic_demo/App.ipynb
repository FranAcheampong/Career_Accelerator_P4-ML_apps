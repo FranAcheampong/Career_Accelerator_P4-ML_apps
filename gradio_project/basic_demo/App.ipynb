{
 "cells": [
  {
   "cell_type": "code",
   "execution_count": 12,
   "id": "154e0ed1",
   "metadata": {},
   "outputs": [],
   "source": [
    "import pandas as pd\n",
    "import gradio as gr\n",
    "from sklearn.model_selection import train_test_split\n",
    "from sklearn.preprocessing import LabelEncoder\n",
    "from sklearn.ensemble import AdaBoostClassifier\n",
    "from PIL import Image\n",
    "import pickle"
   ]
  },
  {
   "cell_type": "code",
   "execution_count": 14,
   "id": "63113590",
   "metadata": {},
   "outputs": [],
   "source": [
    "# Load the dataset\n",
    "df = pd.read_csv(\"Telco_Customer.csv\")"
   ]
  },
  {
   "cell_type": "code",
   "execution_count": 17,
   "id": "7cb7b037",
   "metadata": {},
   "outputs": [
    {
     "name": "stderr",
     "output_type": "stream",
     "text": [
      "C:\\Users\\user\\anaconda3\\lib\\site-packages\\gradio\\inputs.py:219: UserWarning: Usage of gradio.inputs is deprecated, and will not be supported in the future, please import your component from gradio.components\n",
      "  warnings.warn(\n",
      "C:\\Users\\user\\anaconda3\\lib\\site-packages\\gradio\\inputs.py:222: UserWarning: `optional` parameter is deprecated, and it has no effect\n",
      "  super().__init__(\n",
      "C:\\Users\\user\\anaconda3\\lib\\site-packages\\gradio\\outputs.py:22: UserWarning: Usage of gradio.outputs is deprecated, and will not be supported in the future, please import your components from gradio.components\n",
      "  warnings.warn(\n"
     ]
    },
    {
     "name": "stdout",
     "output_type": "stream",
     "text": [
      "Running on local URL:  http://127.0.0.1:7865\n",
      "\n",
      "Could not create share link. Please check your internet connection or our status page: https://status.gradio.app. \n",
      "\n",
      "Also please ensure that your antivirus or firewall is not blocking the binary file located at: C:\\Users\\user\\anaconda3\\lib\\site-packages\\gradio\\frpc_windows_amd64_v0.2\n"
     ]
    },
    {
     "data": {
      "text/html": [
       "<div><iframe src=\"http://127.0.0.1:7865/\" width=\"100%\" height=\"500\" allow=\"autoplay; camera; microphone; clipboard-read; clipboard-write;\" frameborder=\"0\" allowfullscreen></iframe></div>"
      ],
      "text/plain": [
       "<IPython.core.display.HTML object>"
      ]
     },
     "metadata": {},
     "output_type": "display_data"
    },
    {
     "data": {
      "text/plain": []
     },
     "execution_count": 17,
     "metadata": {},
     "output_type": "execute_result"
    }
   ],
   "source": [
    "# Separate the features and target variable\n",
    "X = df.drop(\"Churn\", axis=1)\n",
    "y = df[\"Churn\"]\n",
    "\n",
    "# Encode the categorical variables\n",
    "categorical_vars = X.select_dtypes(include=\"object\").columns.tolist()\n",
    "encoders = {}\n",
    "for var in categorical_vars:\n",
    "    encoder = LabelEncoder()\n",
    "    X[var] = encoder.fit_transform(X[var])\n",
    "    encoders[var] = encoder\n",
    "\n",
    "# Split the data into training and testing sets\n",
    "X_train, X_test, y_train, y_test = train_test_split(X, y, test_size=0.2, random_state=42)\n",
    "\n",
    "# Define and train the AdaBoost classifier\n",
    "adaboost = AdaBoostClassifier()\n",
    "adaboost.fit(X_train, y_train)\n",
    "\n",
    "# Save the trained model using pickle\n",
    "model_filename = \"adaboost_model.pkl\"\n",
    "with open(model_filename, \"wb\") as file:\n",
    "    pickle.dump(adaboost, file)\n",
    "\n",
    "# Define prediction function using the loaded model\n",
    "def predict_churn(*data):\n",
    "    # Load the saved model\n",
    "    with open(model_filename, \"rb\") as file:\n",
    "        loaded_model = pickle.load(file)\n",
    "\n",
    "    # Encode the inputs\n",
    "    encoded_data = []\n",
    "    for i, var in enumerate(categorical_vars):\n",
    "        encoder = encoders[var]\n",
    "        encoded_value = encoder.transform([data[i]])[0]\n",
    "        encoded_data.append(encoded_value)\n",
    "\n",
    "    # Make predictions on the encoded data\n",
    "    encoded_df = pd.DataFrame([encoded_data], columns=X.columns)\n",
    "    prediction = loaded_model.predict(encoded_df)\n",
    "\n",
    "    # Save inputs and output to CSV\n",
    "    input_data = pd.DataFrame([data], columns=X.columns)\n",
    "    input_data[\"Churn Prediction\"] = prediction[0]\n",
    "    input_data.to_csv(\"history.csv\", index=False)\n",
    "\n",
    "    return \"Churn Prediction: \" + prediction[0]\n",
    "\n",
    "# Create the dropdown choices using raw data\n",
    "dropdown_choices = {}\n",
    "for var in categorical_vars:\n",
    "    dropdown_choices[var] = list(df[var].unique())\n",
    "    \n",
    "\n",
    "# Create the input interfaces using Gradio\n",
    "input_interfaces = [gr.inputs.Dropdown(choices=dropdown_choices[col], label=col) for col in X.columns]\n",
    "output_interface = gr.outputs.Textbox()\n",
    "\n",
    "# Create the Gradio interface\n",
    "iface = gr.Interface(fn=predict_churn, inputs=input_interfaces, outputs=output_interface, title = \"Customer Churn Prediction App\")\n",
    "\n",
    "\n",
    "# Run the Gradio interface\n",
    "iface.launch(share =True)\n"
   ]
  },
  {
   "cell_type": "code",
   "execution_count": null,
   "id": "426387e4",
   "metadata": {},
   "outputs": [],
   "source": []
  }
 ],
 "metadata": {
  "kernelspec": {
   "display_name": "Python 3",
   "language": "python",
   "name": "python3"
  },
  "language_info": {
   "codemirror_mode": {
    "name": "ipython",
    "version": 3
   },
   "file_extension": ".py",
   "mimetype": "text/x-python",
   "name": "python",
   "nbconvert_exporter": "python",
   "pygments_lexer": "ipython3",
   "version": "3.8.8"
  }
 },
 "nbformat": 4,
 "nbformat_minor": 5
}
